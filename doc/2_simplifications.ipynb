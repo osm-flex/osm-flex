{
 "cells": [
  {
   "cell_type": "markdown",
   "id": "ce63d190",
   "metadata": {},
   "source": [
    "## Simplifying parsed data"
   ]
  },
  {
   "cell_type": "markdown",
   "id": "7a462b28",
   "metadata": {},
   "source": [
    "The following functions provide some simple methods to refine data parsed from OSM. \n",
    "For more elaborate geospatial functions, designed to simplify the geometry of shapes and make them more coherent, please refer to bespoke packages. "
   ]
  },
  {
   "cell_type": "code",
   "execution_count": 10,
   "id": "13b9421f",
   "metadata": {},
   "outputs": [],
   "source": [
    "# Loading necessary data packages\n",
    "import matplotlib.pyplot as plt\n",
    "\n",
    "import sys\n",
    "sys.path.append('/Users/evelynm/osm-flex/src') \n",
    "\n",
    "import osm_flex.download as dl\n",
    "import osm_flex.extract as ex\n",
    "import osm_flex.config\n",
    "import osm_flex.simplify as sy"
   ]
  },
  {
   "cell_type": "markdown",
   "id": "24370cf6",
   "metadata": {},
   "source": [
    "### Example: Remove (near-)duplicates"
   ]
  },
  {
   "cell_type": "code",
   "execution_count": 3,
   "id": "8a5ac07a",
   "metadata": {},
   "outputs": [],
   "source": [
    "# get an OSM dataset for illustration purposes\n",
    "iso3 = 'CHE'\n",
    "dl.get_country_geofabrik(iso3)\n",
    "path_che_dump = osm_flex.config.OSM_DATA_DIR.joinpath('switzerland-latest.osm.pbf')"
   ]
  },
  {
   "cell_type": "markdown",
   "id": "1256b39d",
   "metadata": {},
   "source": [
    "Sometimes, places can be tagged as points (POIs) or as their explicit shape (e.g. building polygons, or rooms / areas within larger buildings). This results effectively in near-duplicates.\n",
    "The following examples illustrate this with the pre-written healthcare parser:"
   ]
  },
  {
   "cell_type": "code",
   "execution_count": 5,
   "id": "9563aa03",
   "metadata": {},
   "outputs": [
    {
     "name": "stderr",
     "output_type": "stream",
     "text": [
      "extract points: 100%|███████████████████████████████████████████████████████████████████████████████████████████████████████| 1943/1943 [00:15<00:00, 128.68it/s]\n",
      "extract multipolygons: 100%|█████████████████████████████████████████████████████████████████████████████████████████████████| 1407/1407 [00:54<00:00, 25.73it/s]\n"
     ]
    }
   ],
   "source": [
    "# Query yields point and multi-polygon data \n",
    "gdf_che_health = ex.extract_cis(path_che_dump, 'healthcare')"
   ]
  },
  {
   "cell_type": "code",
   "execution_count": 6,
   "id": "a36c9846",
   "metadata": {},
   "outputs": [
    {
     "name": "stdout",
     "output_type": "stream",
     "text": [
      "Number of results: 3350\n"
     ]
    }
   ],
   "source": [
    "print(f'Number of results: {len(gdf_che_health)}')"
   ]
  },
  {
   "cell_type": "code",
   "execution_count": 15,
   "id": "f7c92f79",
   "metadata": {},
   "outputs": [
    {
     "name": "stdout",
     "output_type": "stream",
     "text": [
      "Number of results after removing points contained in polygons: 3257\n"
     ]
    }
   ],
   "source": [
    "gdf_che_health = sy.remove_contained_points(gdf_che_health)\n",
    "print(f'Number of results after removing points contained in polygons: {len(gdf_che_health)}')"
   ]
  },
  {
   "cell_type": "code",
   "execution_count": 16,
   "id": "8c276652",
   "metadata": {},
   "outputs": [
    {
     "name": "stdout",
     "output_type": "stream",
     "text": [
      "Number of results after removing polygons contained in larger polygons: 2455\n"
     ]
    }
   ],
   "source": [
    "gdf_che_health = sy.remove_contained_polys(gdf_che_health)\n",
    "print(f'Number of results after removing polygons contained in larger polygons: {len(gdf_che_health)}')"
   ]
  },
  {
   "cell_type": "code",
   "execution_count": 17,
   "id": "1cd7939e",
   "metadata": {},
   "outputs": [
    {
     "name": "stdout",
     "output_type": "stream",
     "text": [
      "Number of results after removing exact geometrical duplicates: 2455\n"
     ]
    }
   ],
   "source": [
    "gdf_che_health = sy.remove_exact_duplicates(gdf_che_health)\n",
    "print(f'Number of results after removing exact geometrical duplicates: {len(gdf_che_health)}')"
   ]
  },
  {
   "cell_type": "markdown",
   "id": "1ff9c87a",
   "metadata": {},
   "source": [
    "### Example: Remove small polygons"
   ]
  },
  {
   "cell_type": "code",
   "execution_count": 12,
   "id": "c9d5bfdc",
   "metadata": {},
   "outputs": [
    {
     "name": "stderr",
     "output_type": "stream",
     "text": [
      "extract multipolygons: 100%|█████████████████████████████████████████████████████████████████████████████████████████████| 76220/76220 [00:41<00:00, 1822.98it/s]\n"
     ]
    }
   ],
   "source": [
    "gdf_che_forest = ex.extract(path_che_dump,'multipolygons', ['landuse', 'name'], \"landuse='forest'\")"
   ]
  },
  {
   "cell_type": "code",
   "execution_count": 8,
   "id": "dedf39ba",
   "metadata": {},
   "outputs": [
    {
     "name": "stdout",
     "output_type": "stream",
     "text": [
      "Number of results: 76220\n"
     ]
    }
   ],
   "source": [
    "print(f'Number of results: {len(gdf_che_forest)}')"
   ]
  },
  {
   "cell_type": "code",
   "execution_count": 13,
   "id": "b26d562b",
   "metadata": {},
   "outputs": [
    {
     "name": "stdout",
     "output_type": "stream",
     "text": [
      "Number of results after removal of small polygons: 74484\n"
     ]
    }
   ],
   "source": [
    "gdf_che_forest = gdf_che_forest.to_crs('epsg:21781') # metre-based CRS for Switzerland\n",
    "min_area = 100\n",
    "gdf_che_forest = sy.remove_small_polygons(gdf_che_forest, min_area) # remove all areas < 100m2 (always in units of respective CRS)\n",
    "print(f'Number of results after removal of small polygons: {len(gdf_che_forest)}')"
   ]
  },
  {
   "cell_type": "code",
   "execution_count": null,
   "id": "92fd81f3",
   "metadata": {},
   "outputs": [],
   "source": []
  }
 ],
 "metadata": {
  "kernelspec": {
   "display_name": "Python 3 (ipykernel)",
   "language": "python",
   "name": "python3"
  },
  "language_info": {
   "codemirror_mode": {
    "name": "ipython",
    "version": 3
   },
   "file_extension": ".py",
   "mimetype": "text/x-python",
   "name": "python",
   "nbconvert_exporter": "python",
   "pygments_lexer": "ipython3",
   "version": "3.9.16"
  }
 },
 "nbformat": 4,
 "nbformat_minor": 5
}
